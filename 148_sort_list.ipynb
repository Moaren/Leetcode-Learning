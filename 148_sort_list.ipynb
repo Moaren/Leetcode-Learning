{
 "cells": [
  {
   "cell_type": "markdown",
   "metadata": {},
   "source": [
    "# 148. Sort List\n",
    "- General idea: Sort a linked list in O(n*log(n)) time using constant space complexity (O(1)).\n",
    "- Link: https://leetcode.com/problems/sort-list/\n",
    "- Analysis: By the time and space complexity limitation, bottom-to-up merge sort should be used\n",
    "- Reference answer: https://leetcode.com/problems/sort-list/discuss/46712/Bottom-to-up(not-recurring)-with-o(1)-space-complextity-and-o(nlgn)-time-complextity"
   ]
  },
  {
   "cell_type": "markdown",
   "metadata": {},
   "source": [
    "## Analysis:\n",
    "- Bottom-up-merge-sort has a better space and time complexity compared with traditional merge sort. The key here is to convert the dividing process to a while loop so the space wasted in the recurssion part will be saved.\n",
    "- The diffculity here is how \"split\", \"merge\" and \"while loop dividing\" are organized. "
   ]
  },
  {
   "cell_type": "code",
   "execution_count": 26,
   "metadata": {},
   "outputs": [],
   "source": [
    "# Definition for singly-linked list.\n",
    "class ListNode:\n",
    "    def __init__(self, x):\n",
    "        self.val = x\n",
    "        self.next = None\n",
    "        \n",
    "class Solution(object):\n",
    "    def sortList(self,head):\n",
    "        \"\"\"\n",
    "        :type head: ListNode\n",
    "        :rtype: ListNode\n",
    "        \"\"\"\n",
    "        if head is None: return None # Consider boundary conditions\n",
    "        \n",
    "        def getSize(head):\n",
    "            counter = 0\n",
    "            while(head is not None):\n",
    "                counter += 1\n",
    "                head = head.next\n",
    "            return counter\n",
    "        \n",
    "        def split(head,step):\n",
    "            # Split nodes with step length from the original chain\n",
    "            # Move the curor to the next element\n",
    "            i = 1\n",
    "            while(i < step and head):\n",
    "                head = head.next\n",
    "                i += 1\n",
    "            \n",
    "            if head is None: return None\n",
    "            #disconnect\n",
    "            temp,head.next = head.next,None\n",
    "            return temp\n",
    "        \n",
    "        def merge(l,r,head):\n",
    "            # Sort for each section\n",
    "            cur = head\n",
    "            while(l and r):\n",
    "                if l.val < r.val:\n",
    "                    cur.next,l = l, l.next\n",
    "                else:\n",
    "                    cur.next,r = r,r.next\n",
    "                cur = cur.next\n",
    "            cur.next = l if l is not None else r\n",
    "            while cur.next is not None: cur = cur.next\n",
    "            return cur\n",
    "        \n",
    "        size = getSize(head)\n",
    "        bs = 1\n",
    "        dummy = ListNode(0)\n",
    "        dummy.next = head\n",
    "        l,r,tail = None,None,None\n",
    "        while(bs < size):\n",
    "            cur = dummy.next \n",
    "            tail = dummy\n",
    "            while cur:\n",
    "                l = cur\n",
    "                r = split(l,bs)\n",
    "                cur = split(r,bs)\n",
    "                tail = merge (l,r,tail)\n",
    "            bs <<= 1 # binary left move 1 bit, equal to multiply 2\n",
    "        return dummy.next"
   ]
  },
  {
   "cell_type": "code",
   "execution_count": 27,
   "metadata": {},
   "outputs": [
    {
     "name": "stdout",
     "output_type": "stream",
     "text": [
      "[1, 3, 4, 24, 523, 23]\n",
      "[1, 3, 4, 23, 24, 523]\n"
     ]
    }
   ],
   "source": [
    "# Test Code\n",
    "input_list = [1,3,4,24,523,23]\n",
    "def lis_to_node(lis):\n",
    "    head = None\n",
    "    cur = None\n",
    "    for i in range(len(lis)):\n",
    "        if i == 0: \n",
    "            head = ListNode(lis[0])\n",
    "            cur = head\n",
    "        else:\n",
    "            cur.next = ListNode(lis[i])\n",
    "            cur = cur.next\n",
    "    return head \n",
    "\n",
    "def print_nodes(head):\n",
    "    lis = []\n",
    "    lis.append(head.val)\n",
    "    while head.next:\n",
    "        lis.append(head.next.val)\n",
    "        head = head.next\n",
    "    print(lis)\n",
    "\n",
    "node = lis_to_node(input_list)\n",
    "print_nodes(node)\n",
    "\n",
    "solution = Solution()\n",
    "solution.sortList(node)\n",
    "print_nodes(node)"
   ]
  },
  {
   "cell_type": "code",
   "execution_count": 13,
   "metadata": {},
   "outputs": [
    {
     "data": {
      "text/plain": [
       "[2, 6, 7, 42]"
      ]
     },
     "execution_count": 13,
     "metadata": {},
     "output_type": "execute_result"
    }
   ],
   "source": [
    "class ListNode:\n",
    "    def __init__(self,x):\n",
    "        self.val = x\n",
    "        self.next = None\n",
    "        \n",
    "def lis_to_node(lis):\n",
    "    head = None\n",
    "    cur = None\n",
    "    for i in range(len(lis)):\n",
    "        if i == 0: \n",
    "            head = ListNode(lis[0])\n",
    "            cur = head\n",
    "        else:\n",
    "            cur.next = ListNode(lis[i])\n",
    "            cur = cur.next\n",
    "    return head \n",
    "\n",
    "class Solution:\n",
    "\n",
    "    def sortList(self,head):\n",
    "        if head is None: return None\n",
    "        def getSize(head):\n",
    "            size = 1\n",
    "            while head.next:\n",
    "                size += 1\n",
    "                head = head.next\n",
    "            return size\n",
    "        \n",
    "        def split(head,step):\n",
    "            i = 1\n",
    "            while(i<step and head):\n",
    "                head = head.next\n",
    "                i += 1\n",
    "            if head is None: return None\n",
    "            temp,head.next = head.next,None\n",
    "            return temp\n",
    "        \n",
    "        def merge(l,r,head):\n",
    "            cur = head\n",
    "            while(l and r):\n",
    "                if l.val < r.val:\n",
    "                    cur.next,l = l,l.next\n",
    "                else:\n",
    "                    cur.next,r = r,r.next\n",
    "                cur = cur.next\n",
    "            cur.next = l if l is not None else r\n",
    "            while cur.next is not None: cur = cur.next\n",
    "            return cur\n",
    "        size = getSize(head)\n",
    "        bs = 1\n",
    "        attachPoint = ListNode(0)\n",
    "        attachPoint.next = head\n",
    "        l,r,tail = None,None,None\n",
    "        while(bs<size):\n",
    "            cur = attachPoint.next\n",
    "            tail = attachPoint\n",
    "            while cur:\n",
    "                l = cur\n",
    "                r = split(l,bs)\n",
    "                cur = split(r,bs)\n",
    "                tail  = merge(l,r,tail)\n",
    "            bs <<= 1\n",
    "        return attachPoint.next\n",
    "def print_nodes(head):\n",
    "    lis = []\n",
    "    lis.append(head.val)\n",
    "    while head.next:\n",
    "        lis.append(head.next.val)\n",
    "        head = head.next\n",
    "    return lis\n",
    "node = lis_to_node([2,42,6,7])\n",
    "solution = Solution()\n",
    "result = solution.sortList(node)\n",
    "print_nodes(result)"
   ]
  },
  {
   "cell_type": "code",
   "execution_count": 15,
   "metadata": {},
   "outputs": [
    {
     "data": {
      "text/plain": [
       "42"
      ]
     },
     "execution_count": 15,
     "metadata": {},
     "output_type": "execute_result"
    }
   ],
   "source": [
    "def get_max(head):\n",
    "    while head.next:\n",
    "        head = head.next\n",
    "    return head.val\n",
    "get_max(result)"
   ]
  }
 ],
 "metadata": {
  "kernelspec": {
   "display_name": "Python 3",
   "language": "python",
   "name": "python3"
  },
  "language_info": {
   "codemirror_mode": {
    "name": "ipython",
    "version": 3
   },
   "file_extension": ".py",
   "mimetype": "text/x-python",
   "name": "python",
   "nbconvert_exporter": "python",
   "pygments_lexer": "ipython3",
   "version": "3.7.2"
  }
 },
 "nbformat": 4,
 "nbformat_minor": 2
}
