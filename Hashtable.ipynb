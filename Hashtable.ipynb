{
 "cells": [
  {
   "cell_type": "markdown",
   "metadata": {},
   "source": [
    "## Linear Hashtable"
   ]
  },
  {
   "cell_type": "code",
   "execution_count": 30,
   "metadata": {},
   "outputs": [],
   "source": [
    "class Node:\n",
    "    def __init__(self,val,next_node = None):\n",
    "        self.val = val\n",
    "        self.next = next_node\n",
    "        \n",
    "class LinearHashMap:\n",
    "    def __init__(self,capacity,alpha):\n",
    "        self.maps = []\n",
    "        self.alpha = alpha\n",
    "        self.num = 0\n",
    "        for i in range(capacity):\n",
    "            self.maps.append(Node((\"start\",None),None))\n",
    "            \n",
    "    def find_map(self,k,maps):\n",
    "        index = hash(k) % len(maps)\n",
    "        return maps[index]\n",
    "    \n",
    "    def map_insert(self,k,m,v):\n",
    "        node = m\n",
    "        while node.next != None:\n",
    "            node = node.next\n",
    "        node.next = Node((k,v),None)\n",
    "    \n",
    "    def map_get(self,m,k):\n",
    "        node = m\n",
    "        while node != None and node.val[0] != k :\n",
    "            node = node.next\n",
    "        if node is not None: return node.val[1]\n",
    "        raise KeyError(f\"The key '{k}' does not exit in the map.\")\n",
    "    \n",
    "    def add(self,k,v):\n",
    "        if self.num == len(self.maps)*self.alpha: \n",
    "            self.resize()\n",
    "        m = self.find_map(k,self.maps)\n",
    "        self.map_insert(k,m,v)\n",
    "        self.num += 1\n",
    "        \n",
    "    def get(self,k):\n",
    "        m = self.find_map(k,self.maps)\n",
    "        return self.map_get(m,k)\n",
    "    \n",
    "    def resize(self):\n",
    "        new_maps = []\n",
    "        self.capacity *= 2\n",
    "        print(f\"The capacity has been increased to {self.capacity}\")\n",
    "        for i in range(self.capacity):\n",
    "            self.maps.append(Node((\"start\",None),None))\n",
    "        \n",
    "        for node in self.maps:\n",
    "            node = node.next\n",
    "            while node != None:\n",
    "                k,v = node.val \n",
    "                node = node.next\n",
    "                m = self.find_map(k,new_maps)\n",
    "                self.map_insert(k,m,v)\n",
    "        self.maps = new_maps        "
   ]
  },
  {
   "cell_type": "code",
   "execution_count": 31,
   "metadata": {},
   "outputs": [
    {
     "name": "stdout",
     "output_type": "stream",
     "text": [
      "1130\n"
     ]
    },
    {
     "ename": "KeyError",
     "evalue": "\"The key 'QIMEI1248' does not exit in the map.\"",
     "output_type": "error",
     "traceback": [
      "\u001b[1;31m---------------------------------------------------------------------------\u001b[0m",
      "\u001b[1;31mKeyError\u001b[0m                                  Traceback (most recent call last)",
      "\u001b[1;32m<ipython-input-31-4e6f9d9d3586>\u001b[0m in \u001b[0;36m<module>\u001b[1;34m\u001b[0m\n\u001b[0;32m     13\u001b[0m     \u001b[0mtable\u001b[0m\u001b[1;33m.\u001b[0m\u001b[0madd\u001b[0m\u001b[1;33m(\u001b[0m\u001b[0mk\u001b[0m\u001b[1;33m=\u001b[0m\u001b[0mitem\u001b[0m\u001b[1;33m,\u001b[0m \u001b[0mv\u001b[0m\u001b[1;33m=\u001b[0m\u001b[0mprice\u001b[0m\u001b[1;33m)\u001b[0m\u001b[1;33m\u001b[0m\u001b[1;33m\u001b[0m\u001b[0m\n\u001b[0;32m     14\u001b[0m \u001b[0mprint\u001b[0m\u001b[1;33m(\u001b[0m\u001b[0mtable\u001b[0m\u001b[1;33m.\u001b[0m\u001b[0mget\u001b[0m\u001b[1;33m(\u001b[0m\u001b[1;34m\"CX12\"\u001b[0m\u001b[1;33m)\u001b[0m\u001b[1;33m)\u001b[0m\u001b[1;33m\u001b[0m\u001b[1;33m\u001b[0m\u001b[0m\n\u001b[1;32m---> 15\u001b[1;33m \u001b[0mprint\u001b[0m\u001b[1;33m(\u001b[0m\u001b[0mtable\u001b[0m\u001b[1;33m.\u001b[0m\u001b[0mget\u001b[0m\u001b[1;33m(\u001b[0m\u001b[1;34m\"QIMEI1248\"\u001b[0m\u001b[1;33m)\u001b[0m\u001b[1;33m)\u001b[0m\u001b[1;33m\u001b[0m\u001b[1;33m\u001b[0m\u001b[0m\n\u001b[0m",
      "\u001b[1;32m<ipython-input-30-0c2c9480c586>\u001b[0m in \u001b[0;36mget\u001b[1;34m(self, k)\u001b[0m\n\u001b[0;32m     38\u001b[0m     \u001b[1;32mdef\u001b[0m \u001b[0mget\u001b[0m\u001b[1;33m(\u001b[0m\u001b[0mself\u001b[0m\u001b[1;33m,\u001b[0m\u001b[0mk\u001b[0m\u001b[1;33m)\u001b[0m\u001b[1;33m:\u001b[0m\u001b[1;33m\u001b[0m\u001b[1;33m\u001b[0m\u001b[0m\n\u001b[0;32m     39\u001b[0m         \u001b[0mm\u001b[0m \u001b[1;33m=\u001b[0m \u001b[0mself\u001b[0m\u001b[1;33m.\u001b[0m\u001b[0mfind_map\u001b[0m\u001b[1;33m(\u001b[0m\u001b[0mk\u001b[0m\u001b[1;33m,\u001b[0m\u001b[0mself\u001b[0m\u001b[1;33m.\u001b[0m\u001b[0mmaps\u001b[0m\u001b[1;33m)\u001b[0m\u001b[1;33m\u001b[0m\u001b[1;33m\u001b[0m\u001b[0m\n\u001b[1;32m---> 40\u001b[1;33m         \u001b[1;32mreturn\u001b[0m \u001b[0mself\u001b[0m\u001b[1;33m.\u001b[0m\u001b[0mmap_get\u001b[0m\u001b[1;33m(\u001b[0m\u001b[0mm\u001b[0m\u001b[1;33m,\u001b[0m\u001b[0mk\u001b[0m\u001b[1;33m)\u001b[0m\u001b[1;33m\u001b[0m\u001b[1;33m\u001b[0m\u001b[0m\n\u001b[0m\u001b[0;32m     41\u001b[0m \u001b[1;33m\u001b[0m\u001b[0m\n\u001b[0;32m     42\u001b[0m     \u001b[1;32mdef\u001b[0m \u001b[0mresize\u001b[0m\u001b[1;33m(\u001b[0m\u001b[0mself\u001b[0m\u001b[1;33m)\u001b[0m\u001b[1;33m:\u001b[0m\u001b[1;33m\u001b[0m\u001b[1;33m\u001b[0m\u001b[0m\n",
      "\u001b[1;32m<ipython-input-30-0c2c9480c586>\u001b[0m in \u001b[0;36mmap_get\u001b[1;34m(self, m, k)\u001b[0m\n\u001b[0;32m     27\u001b[0m             \u001b[0mnode\u001b[0m \u001b[1;33m=\u001b[0m \u001b[0mnode\u001b[0m\u001b[1;33m.\u001b[0m\u001b[0mnext\u001b[0m\u001b[1;33m\u001b[0m\u001b[1;33m\u001b[0m\u001b[0m\n\u001b[0;32m     28\u001b[0m         \u001b[1;32mif\u001b[0m \u001b[0mnode\u001b[0m \u001b[1;32mis\u001b[0m \u001b[1;32mnot\u001b[0m \u001b[1;32mNone\u001b[0m\u001b[1;33m:\u001b[0m \u001b[1;32mreturn\u001b[0m \u001b[0mnode\u001b[0m\u001b[1;33m.\u001b[0m\u001b[0mval\u001b[0m\u001b[1;33m[\u001b[0m\u001b[1;36m1\u001b[0m\u001b[1;33m]\u001b[0m\u001b[1;33m\u001b[0m\u001b[1;33m\u001b[0m\u001b[0m\n\u001b[1;32m---> 29\u001b[1;33m         \u001b[1;32mraise\u001b[0m \u001b[0mKeyError\u001b[0m\u001b[1;33m(\u001b[0m\u001b[1;34mf\"The key '{k}' does not exit in the map.\"\u001b[0m\u001b[1;33m)\u001b[0m\u001b[1;33m\u001b[0m\u001b[1;33m\u001b[0m\u001b[0m\n\u001b[0m\u001b[0;32m     30\u001b[0m \u001b[1;33m\u001b[0m\u001b[0m\n\u001b[0;32m     31\u001b[0m     \u001b[1;32mdef\u001b[0m \u001b[0madd\u001b[0m\u001b[1;33m(\u001b[0m\u001b[0mself\u001b[0m\u001b[1;33m,\u001b[0m\u001b[0mk\u001b[0m\u001b[1;33m,\u001b[0m\u001b[0mv\u001b[0m\u001b[1;33m)\u001b[0m\u001b[1;33m:\u001b[0m\u001b[1;33m\u001b[0m\u001b[1;33m\u001b[0m\u001b[0m\n",
      "\u001b[1;31mKeyError\u001b[0m: \"The key 'QIMEI1248' does not exit in the map.\""
     ]
    }
   ],
   "source": [
    "pricedata = [(\"Hohner257\",257),\n",
    "                (\"SW1664\",280),\n",
    "               (\"SCX64\",1090),\n",
    "                (\"SCX48\",830),\n",
    "                 (\"Super64\",2238),\n",
    "                (\"CX12\",1130),\n",
    "                (\"Hohner270\",620),\n",
    "              (\"F64C\",9720),\n",
    "                (\"S48\",1988)]\n",
    "alpha = 0.75\n",
    "table = LinearHashMap(5,0.75)\n",
    "for item, price in pricedata:\n",
    "    table.add(k=item, v=price)\n",
    "print(table.get(\"CX12\"))\n",
    "print(table.get(\"QIMEI1248\"))"
   ]
  }
 ],
 "metadata": {
  "kernelspec": {
   "display_name": "Python 3",
   "language": "python",
   "name": "python3"
  },
  "language_info": {
   "codemirror_mode": {
    "name": "ipython",
    "version": 3
   },
   "file_extension": ".py",
   "mimetype": "text/x-python",
   "name": "python",
   "nbconvert_exporter": "python",
   "pygments_lexer": "ipython3",
   "version": "3.7.2"
  }
 },
 "nbformat": 4,
 "nbformat_minor": 2
}
